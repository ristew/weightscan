{
 "cells": [
  {
   "cell_type": "code",
   "execution_count": 1,
   "id": "bec96762-0235-4c36-b3d9-18531a1ab8f1",
   "metadata": {},
   "outputs": [
    {
     "name": "stderr",
     "output_type": "stream",
     "text": [
      "`low_cpu_mem_usage` was None, now set to True since model is quantized.\n"
     ]
    },
    {
     "name": "stdout",
     "output_type": "stream",
     "text": [
      "training autoencoder\n"
     ]
    },
    {
     "name": "stderr",
     "output_type": "stream",
     "text": [
      "/home/ras/projects/weightscan/venv/lib/python3.11/site-packages/torch/utils/_device.py:77: UserWarning: Using a target size (torch.Size([1, 10, 2048])) that is different to the input size (torch.Size([1, 2048])). This will likely lead to incorrect results due to broadcasting. Please ensure they have the same size.\n",
      "  return func(*args, **kwargs)\n"
     ]
    },
    {
     "name": "stdout",
     "output_type": "stream",
     "text": [
      "autoencoder trained\n",
      "fit basis torch.Size([25, 1024, 16])\n",
      "reducer fit, transforming...\n"
     ]
    }
   ],
   "source": [
    "import scan\n",
    "ws = scan.Scan('A\\nA B A\\nA B A B')\n",
    "ws.forward()"
   ]
  },
  {
   "cell_type": "code",
   "execution_count": 6,
   "id": "2a7bf1ed-3af2-4585-8c7d-787a8b94cea2",
   "metadata": {},
   "outputs": [
    {
     "name": "stdout",
     "output_type": "stream",
     "text": [
      "logprobs torch.Size([1, 1, 10, 100352]) torch.Size([1, 10, 100352])\n",
      "top_tokens torch.Size([5]) torch.Size([5])\n",
      "logprobs torch.Size([1, 1, 10, 100352]) torch.Size([1, 10, 100352])\n",
      "top_tokens torch.Size([5]) torch.Size([5])\n",
      "logprobs torch.Size([1, 1, 10, 100352]) torch.Size([1, 10, 100352])\n",
      "top_tokens torch.Size([5]) torch.Size([5])\n",
      "logprobs torch.Size([1, 1, 10, 100352]) torch.Size([1, 10, 100352])\n",
      "top_tokens torch.Size([5]) torch.Size([5])\n",
      "logprobs torch.Size([1, 1, 10, 100352]) torch.Size([1, 10, 100352])\n",
      "top_tokens torch.Size([5]) torch.Size([5])\n",
      "logprobs torch.Size([1, 1, 10, 100352]) torch.Size([1, 10, 100352])\n",
      "top_tokens torch.Size([5]) torch.Size([5])\n",
      "logprobs torch.Size([1, 1, 10, 100352]) torch.Size([1, 10, 100352])\n",
      "top_tokens torch.Size([5]) torch.Size([5])\n",
      "logprobs torch.Size([1, 1, 10, 100352]) torch.Size([1, 10, 100352])\n",
      "top_tokens torch.Size([5]) torch.Size([5])\n",
      "logprobs torch.Size([1, 1, 10, 100352]) torch.Size([1, 10, 100352])\n",
      "top_tokens torch.Size([5]) torch.Size([5])\n",
      "logprobs torch.Size([1, 1, 10, 100352]) torch.Size([1, 10, 100352])\n",
      "top_tokens torch.Size([5]) torch.Size([5])\n",
      "logprobs torch.Size([1, 1, 10, 100352]) torch.Size([1, 10, 100352])\n",
      "top_tokens torch.Size([5]) torch.Size([5])\n",
      "logprobs torch.Size([1, 1, 10, 100352]) torch.Size([1, 10, 100352])\n",
      "top_tokens torch.Size([5]) torch.Size([5])\n",
      "logprobs torch.Size([1, 1, 10, 100352]) torch.Size([1, 10, 100352])\n",
      "top_tokens torch.Size([5]) torch.Size([5])\n",
      "logprobs torch.Size([1, 1, 10, 100352]) torch.Size([1, 10, 100352])\n",
      "top_tokens torch.Size([5]) torch.Size([5])\n",
      "logprobs torch.Size([1, 1, 10, 100352]) torch.Size([1, 10, 100352])\n",
      "top_tokens torch.Size([5]) torch.Size([5])\n",
      "logprobs torch.Size([1, 1, 10, 100352]) torch.Size([1, 10, 100352])\n",
      "top_tokens torch.Size([5]) torch.Size([5])\n",
      "logprobs torch.Size([1, 1, 10, 100352]) torch.Size([1, 10, 100352])\n",
      "top_tokens torch.Size([5]) torch.Size([5])\n",
      "logprobs torch.Size([1, 1, 10, 100352]) torch.Size([1, 10, 100352])\n",
      "top_tokens torch.Size([5]) torch.Size([5])\n",
      "logprobs torch.Size([1, 1, 10, 100352]) torch.Size([1, 10, 100352])\n",
      "top_tokens torch.Size([5]) torch.Size([5])\n",
      "logprobs torch.Size([1, 1, 10, 100352]) torch.Size([1, 10, 100352])\n",
      "top_tokens torch.Size([5]) torch.Size([5])\n",
      "logprobs torch.Size([1, 1, 10, 100352]) torch.Size([1, 10, 100352])\n",
      "top_tokens torch.Size([5]) torch.Size([5])\n",
      "logprobs torch.Size([1, 1, 10, 100352]) torch.Size([1, 10, 100352])\n",
      "top_tokens torch.Size([5]) torch.Size([5])\n",
      "logprobs torch.Size([1, 1, 10, 100352]) torch.Size([1, 10, 100352])\n",
      "top_tokens torch.Size([5]) torch.Size([5])\n",
      "logprobs torch.Size([1, 1, 10, 100352]) torch.Size([1, 10, 100352])\n",
      "top_tokens torch.Size([5]) torch.Size([5])\n",
      "logprobs torch.Size([1, 1, 10, 100352]) torch.Size([1, 10, 100352])\n",
      "top_tokens torch.Size([5]) torch.Size([5])\n",
      "wrote modified template\n"
     ]
    }
   ],
   "source": [
    "ws.visualize()"
   ]
  },
  {
   "cell_type": "code",
   "execution_count": null,
   "id": "fa42a0ba-576c-4ebc-979a-a28f9cc6e99a",
   "metadata": {},
   "outputs": [],
   "source": [
    "ws.embeddings[0]"
   ]
  },
  {
   "cell_type": "code",
   "execution_count": null,
   "id": "9d52e959-f223-41bc-875b-8e2b5cf0a51b",
   "metadata": {},
   "outputs": [],
   "source": [
    "import open3d as o3d\n",
    "import open3d.core as o3c\n",
    "import numpy as np\n",
    "pcd = o3d.geometry.PointCloud()\n",
    "pcd.points = o3d.utility.Vector3dVector(ws.embeddings[0])\n",
    "pcd.estimate_normals()\n",
    "pcd.orient_normals_consistent_tangent_plane(10)"
   ]
  },
  {
   "cell_type": "code",
   "execution_count": null,
   "id": "721b0eab-496b-48be-baa5-25f65804c147",
   "metadata": {},
   "outputs": [],
   "source": [
    "import matplotlib.pyplot as plt"
   ]
  },
  {
   "cell_type": "code",
   "execution_count": null,
   "id": "5e7f0480-cd30-45db-9575-dd370a1b4af9",
   "metadata": {},
   "outputs": [],
   "source": [
    "mesh, densities = o3d.geometry.TriangleMesh.create_from_point_cloud_poisson(pcd, depth=4)\n",
    "densities = np.asarray(densities)\n",
    "density_colors = plt.get_cmap('plasma')(\n",
    "    (densities - densities.min()) / (densities.max() - densities.min()))\n",
    "density_colors = density_colors[:, :3]\n",
    "density_mesh = o3d.geometry.TriangleMesh()\n",
    "density_mesh.vertices = mesh.vertices\n",
    "density_mesh.triangles = mesh.triangles\n",
    "density_mesh.triangle_normals = mesh.triangle_normals\n",
    "density_mesh.vertex_colors = o3d.utility.Vector3dVector(density_colors)\n",
    "o3d.visualization.draw_geometries([density_mesh])"
   ]
  },
  {
   "cell_type": "code",
   "execution_count": null,
   "id": "a9cf3d3f-54ff-466e-a5b9-793b98a5c8dd",
   "metadata": {},
   "outputs": [],
   "source": [
    "radii = [0.25, 0.5, 1, 2, 4, 8]\n",
    "rec_mesh = o3d.geometry.TriangleMesh.create_from_point_cloud_ball_pivoting(\n",
    "    pcd, o3d.utility.DoubleVector(radii))\n",
    "o3d.visualization.draw_geometries([pcd, rec_mesh])"
   ]
  },
  {
   "cell_type": "code",
   "execution_count": null,
   "id": "a376209d-775f-499c-9383-19f21b71e1a0",
   "metadata": {},
   "outputs": [],
   "source": [
    "o3d.visualization.draw_geometries([pcd])"
   ]
  },
  {
   "cell_type": "code",
   "execution_count": null,
   "id": "c28ef4b9-260c-49d5-9d5c-98a7d25bce7e",
   "metadata": {},
   "outputs": [],
   "source": []
  }
 ],
 "metadata": {
  "kernelspec": {
   "display_name": "Python 3 (ipykernel)",
   "language": "python",
   "name": "python3"
  },
  "language_info": {
   "codemirror_mode": {
    "name": "ipython",
    "version": 3
   },
   "file_extension": ".py",
   "mimetype": "text/x-python",
   "name": "python",
   "nbconvert_exporter": "python",
   "pygments_lexer": "ipython3",
   "version": "3.11.6"
  }
 },
 "nbformat": 4,
 "nbformat_minor": 5
}
